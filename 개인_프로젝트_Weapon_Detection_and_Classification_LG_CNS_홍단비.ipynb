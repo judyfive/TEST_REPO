{
  "nbformat": 4,
  "nbformat_minor": 0,
  "metadata": {
    "colab": {
      "name": "개인 프로젝트_Weapon Detection and Classification_LG CNS 홍단비.ipynb",
      "provenance": [],
      "collapsed_sections": [],
      "authorship_tag": "ABX9TyOseb4o28RIwqT6zxXSMxoJ",
      "include_colab_link": true
    },
    "kernelspec": {
      "name": "python3",
      "display_name": "Python 3"
    },
    "language_info": {
      "name": "python"
    },
    "accelerator": "GPU"
  },
  "cells": [
    {
      "cell_type": "markdown",
      "metadata": {
        "id": "view-in-github",
        "colab_type": "text"
      },
      "source": [
        "<a href=\"https://colab.research.google.com/github/judyfive/TEST_REPO/blob/main/%EA%B0%9C%EC%9D%B8_%ED%94%84%EB%A1%9C%EC%A0%9D%ED%8A%B8_Weapon_Detection_and_Classification_LG_CNS_%ED%99%8D%EB%8B%A8%EB%B9%84.ipynb\" target=\"_parent\"><img src=\"https://colab.research.google.com/assets/colab-badge.svg\" alt=\"Open In Colab\"/></a>"
      ]
    },
    {
      "cell_type": "markdown",
      "metadata": {
        "id": "fujUizbm4-2F"
      },
      "source": [
        "## **Weapon Classification**\n",
        "\n",
        "```\n",
        "# 코드로 형식 지정됨\n",
        "```\n",
        "\n"
      ]
    },
    {
      "cell_type": "code",
      "metadata": {
        "colab": {
          "base_uri": "https://localhost:8080/"
        },
        "id": "gq51K99Qnb6U",
        "outputId": "b504814d-4707-4597-bc98-19a32f7dcb80"
      },
      "source": [
        "!git clone https://github.com/ari-dasci/OD-WeaponDetection \n",
        "\n",
        "# 1. 불러올 때마다 오래걸립니다. 매번 git clone을 해서 데이터를 가져오는 수 밖에 없나요? "
      ],
      "execution_count": null,
      "outputs": [
        {
          "output_type": "stream",
          "text": [
            "Cloning into 'OD-WeaponDetection'...\n",
            "remote: Enumerating objects: 50752, done.\u001b[K\n",
            "remote: Counting objects: 100% (11670/11670), done.\u001b[K\n",
            "remote: Compressing objects: 100% (10238/10238), done.\u001b[K\n",
            "remote: Total 50752 (delta 10), reused 11653 (delta 2), pack-reused 39082\u001b[K\n",
            "Receiving objects: 100% (50752/50752), 2.26 GiB | 44.70 MiB/s, done.\n",
            "Resolving deltas: 100% (10977/10977), done.\n",
            "Checking out files: 100% (63128/63128), done.\n"
          ],
          "name": "stdout"
        }
      ]
    },
    {
      "cell_type": "code",
      "metadata": {
        "id": "4ds71r7WqJgb"
      },
      "source": [
        "import numpy as np\n",
        "import pandas as pd\n",
        "import os\n",
        "import cv2\n",
        "import glob\n",
        "import os.path as path\n",
        "from scipy import misc"
      ],
      "execution_count": null,
      "outputs": []
    },
    {
      "cell_type": "code",
      "metadata": {
        "id": "LhNuWkOwqmpf"
      },
      "source": [
        "import tensorflow as tf\n",
        "import tensorflow.keras\n",
        "from tensorflow.keras.models import Sequential\n",
        "from tensorflow.keras.layers import Dense,Flatten,Conv2D,MaxPool2D,Dropout\n",
        "import matplotlib.pyplot as plt\n",
        "import seaborn as sns\n",
        "from tensorflow.keras.preprocessing.image import ImageDataGenerator"
      ],
      "execution_count": null,
      "outputs": []
    },
    {
      "cell_type": "code",
      "metadata": {
        "id": "sI-4hR6V2rSP"
      },
      "source": [
        "IMAGE_PATH='./OD-WeaponDetection/Weapons and similar handled objects/Sohas_weapon-Classification/'\n",
        "file_paths=glob.glob(path.join(IMAGE_PATH,'*.jpg'))\n",
        "images=[misc.imread(path) for path in file_paths]\n",
        "images=np.asarray(images)"
      ],
      "execution_count": null,
      "outputs": []
    },
    {
      "cell_type": "code",
      "metadata": {
        "colab": {
          "base_uri": "https://localhost:8080/",
          "height": 190
        },
        "id": "vBei9tNS3yhg",
        "outputId": "8f61eb4c-c84a-4be1-f4ed-9cd8c1597050"
      },
      "source": [
        "# 2. 원본 이미지 사이즈(예: 32*32)를 확인해보고 싶은데 에러가 납니다. \n",
        "image_size=np.asarray([images.shape[0],images.shape[1],images.shape[2]])\n",
        "print(image_size)"
      ],
      "execution_count": null,
      "outputs": [
        {
          "output_type": "error",
          "ename": "IndexError",
          "evalue": "ignored",
          "traceback": [
            "\u001b[0;31m---------------------------------------------------------------------------\u001b[0m",
            "\u001b[0;31mIndexError\u001b[0m                                Traceback (most recent call last)",
            "\u001b[0;32m<ipython-input-11-826e63037997>\u001b[0m in \u001b[0;36m<module>\u001b[0;34m()\u001b[0m\n\u001b[0;32m----> 1\u001b[0;31m \u001b[0mimage_size\u001b[0m\u001b[0;34m=\u001b[0m\u001b[0mnp\u001b[0m\u001b[0;34m.\u001b[0m\u001b[0masarray\u001b[0m\u001b[0;34m(\u001b[0m\u001b[0;34m[\u001b[0m\u001b[0mimages\u001b[0m\u001b[0;34m.\u001b[0m\u001b[0mshape\u001b[0m\u001b[0;34m[\u001b[0m\u001b[0;36m0\u001b[0m\u001b[0;34m]\u001b[0m\u001b[0;34m,\u001b[0m\u001b[0mimages\u001b[0m\u001b[0;34m.\u001b[0m\u001b[0mshape\u001b[0m\u001b[0;34m[\u001b[0m\u001b[0;36m1\u001b[0m\u001b[0;34m]\u001b[0m\u001b[0;34m,\u001b[0m\u001b[0mimages\u001b[0m\u001b[0;34m.\u001b[0m\u001b[0mshape\u001b[0m\u001b[0;34m[\u001b[0m\u001b[0;36m2\u001b[0m\u001b[0;34m]\u001b[0m\u001b[0;34m]\u001b[0m\u001b[0;34m)\u001b[0m\u001b[0;34m\u001b[0m\u001b[0;34m\u001b[0m\u001b[0m\n\u001b[0m\u001b[1;32m      2\u001b[0m \u001b[0mprint\u001b[0m\u001b[0;34m(\u001b[0m\u001b[0mimage_size\u001b[0m\u001b[0;34m)\u001b[0m\u001b[0;34m\u001b[0m\u001b[0;34m\u001b[0m\u001b[0m\n",
            "\u001b[0;31mIndexError\u001b[0m: tuple index out of range"
          ]
        }
      ]
    },
    {
      "cell_type": "code",
      "metadata": {
        "id": "ml_0tCvvsyck"
      },
      "source": [
        "groups_folder_path = './OD-WeaponDetection/Weapons and similar handled objects/Sohas_weapon-Classification/'\n",
        "categories = [\"billete\",\"knife\",\"monedero\",\"pistol\",\"smartphone\",\"tarjeta\"]\n",
        "num_classes = len(categories)"
      ],
      "execution_count": null,
      "outputs": []
    },
    {
      "cell_type": "code",
      "metadata": {
        "id": "uhA6kSVlvPAd"
      },
      "source": [
        "# 이미지 조정, 전체 데이터에 라벨 붙이기\n",
        "image_w = 64\n",
        "image_h = 64\n",
        "  \n",
        "X = []\n",
        "Y = []\n",
        "  \n",
        "for idex, categorie in enumerate(categories):\n",
        "    label = [0 for i in range(num_classes)]\n",
        "    label[idex] = 1\n",
        "    image_dir = groups_folder_path + categorie + '/'\n",
        "  \n",
        "    for top, dir, f in os.walk(image_dir):\n",
        "        for filename in f:\n",
        "            print(image_dir+filename)\n",
        "            img = cv2.imread(image_dir+filename)\n",
        "            img = cv2.resize(img, None, fx=image_w/img.shape[0], fy=image_h/img.shape[1])\n",
        "            X.append(img/256)\n",
        "            Y.append(label)\n",
        " \n",
        "X = np.array(X)\n",
        "Y = np.array(Y)"
      ],
      "execution_count": null,
      "outputs": []
    },
    {
      "cell_type": "code",
      "metadata": {
        "colab": {
          "base_uri": "https://localhost:8080/"
        },
        "id": "_4liKrQazkk9",
        "outputId": "16c87b07-3ce9-4116-836c-6015299789c6"
      },
      "source": [
        "print(len(X),len(Y))"
      ],
      "execution_count": null,
      "outputs": [
        {
          "output_type": "stream",
          "text": [
            "9544 9544\n"
          ],
          "name": "stdout"
        }
      ]
    },
    {
      "cell_type": "code",
      "metadata": {
        "colab": {
          "base_uri": "https://localhost:8080/",
          "height": 172
        },
        "id": "zSneF0G2z07L",
        "outputId": "d9436415-6fd8-468f-f863-698cc05bde80"
      },
      "source": [
        "# 3. 각 각 category별(예: knife, pistol 등) 몇 개의 데이터가 있는지 어떻게 확인하나요?"
      ],
      "execution_count": null,
      "outputs": [
        {
          "output_type": "error",
          "ename": "AttributeError",
          "evalue": "ignored",
          "traceback": [
            "\u001b[0;31m---------------------------------------------------------------------------\u001b[0m",
            "\u001b[0;31mAttributeError\u001b[0m                            Traceback (most recent call last)",
            "\u001b[0;32m<ipython-input-29-c92c271a4ff8>\u001b[0m in \u001b[0;36m<module>\u001b[0;34m()\u001b[0m\n\u001b[0;32m----> 1\u001b[0;31m \u001b[0mX\u001b[0m\u001b[0;34m.\u001b[0m\u001b[0mclasses\u001b[0m\u001b[0;34m\u001b[0m\u001b[0;34m\u001b[0m\u001b[0m\n\u001b[0m",
            "\u001b[0;31mAttributeError\u001b[0m: 'numpy.ndarray' object has no attribute 'classes'"
          ]
        }
      ]
    },
    {
      "cell_type": "code",
      "metadata": {
        "colab": {
          "base_uri": "https://localhost:8080/",
          "height": 268
        },
        "id": "PQBx77QbvU3z",
        "outputId": "a250ce17-43e9-4663-d2ef-db25ff67fea6"
      },
      "source": [
        "# 4. 위의 코드에서 이미지 크기를 조정했는데, 초기에 28로 하니깐 이미지 화질 안 좋아서 (28->32->64)로 조정했습니다. 어느정도로 설정해야 할까요?\n",
        "# 5. 코드를 실행할때마다 이미지의 순서가 바뀝니다. 왜 그런가요? (예: X[0]의 이미지를 출력하면 다른 이미지가 출력 됩니다)\n",
        "plt.imshow(X[0])\n",
        "plt.show()"
      ],
      "execution_count": null,
      "outputs": [
        {
          "output_type": "display_data",
          "data": {
            "image/png": "[encoded data removed]",
            "text/plain": [
              "<Figure size 432x288 with 1 Axes>"
            ]
          },
          "metadata": {
            "tags": [],
            "needs_background": "light"
          }
        }
      ]
    },
    {
      "cell_type": "code",
      "metadata": {
        "colab": {
          "base_uri": "https://localhost:8080/"
        },
        "id": "7rVyypDsHjpo",
        "outputId": "e2fa182e-37d1-4b24-96ba-ce6d73d98bc0"
      },
      "source": [
        "# 6. 위 코드에서 이미지 조정 64*64로 한거 아닌가요? 왜 shape이 다르게 나오나요?\n",
        "X[0].shape"
      ],
      "execution_count": null,
      "outputs": [
        {
          "output_type": "execute_result",
          "data": {
            "text/plain": [
              "(94, 44, 3)"
            ]
          },
          "metadata": {
            "tags": []
          },
          "execution_count": 44
        }
      ]
    },
    {
      "cell_type": "code",
      "metadata": {
        "colab": {
          "base_uri": "https://localhost:8080/"
        },
        "id": "hG0yVxtZxI67",
        "outputId": "b1592d1e-6e03-4333-ff51-20dee8bc437a"
      },
      "source": [
        "print(Y[1])"
      ],
      "execution_count": null,
      "outputs": [
        {
          "output_type": "stream",
          "text": [
            "[1 0 0 0 0 0]\n"
          ],
          "name": "stdout"
        }
      ]
    },
    {
      "cell_type": "code",
      "metadata": {
        "colab": {
          "base_uri": "https://localhost:8080/"
        },
        "id": "0vkQDhJoxTeW",
        "outputId": "64b8c8cd-101b-4ceb-933b-725eccc8db3e"
      },
      "source": [
        "# 학습, 테스트 데이터 나누기\n",
        "from sklearn.model_selection import train_test_split\n",
        "\n",
        "X_train, X_test, Y_train, Y_test = train_test_split(X,Y,test_size=0.2,stratify=Y,random_state=42)\n",
        "xy = (X_train, X_test, Y_train, Y_test)\n",
        "\n",
        "# X_train: 학습용 이미지 데이터\n",
        "# Y_train: 학습용 라벨 데이터\n",
        "# X_test: 테스트용 이미지 데이터\n",
        "# Y_test: 테스트용 라벨 데이터\n",
        "\n",
        "np.save(\"./img_data.npy\", xy)\n",
        "# 7. 이 폴더 안에 데이터를 저장했는데, 폴더 구조에 보면 데이터가 들어가 있지 않습니다."
      ],
      "execution_count": null,
      "outputs": [
        {
          "output_type": "stream",
          "text": [
            "/usr/local/lib/python3.7/dist-packages/numpy/core/_asarray.py:136: VisibleDeprecationWarning: Creating an ndarray from ragged nested sequences (which is a list-or-tuple of lists-or-tuples-or ndarrays with different lengths or shapes) is deprecated. If you meant to do this, you must specify 'dtype=object' when creating the ndarray\n",
            "  return array(a, dtype, copy=False, order=order, subok=True)\n"
          ],
          "name": "stderr"
        }
      ]
    },
    {
      "cell_type": "code",
      "metadata": {
        "colab": {
          "base_uri": "https://localhost:8080/"
        },
        "id": "DgS-xgaQD-QQ",
        "outputId": "4b57a804-1f82-4f5e-8df2-28f4f91f9202"
      },
      "source": [
        "# 8. 데이터와 라벨 하나의 데이터셋으로 안 합쳐도 되나요? 어떻게 합치나요?\n",
        "print(len(X_train),len(X_test))"
      ],
      "execution_count": null,
      "outputs": [
        {
          "output_type": "stream",
          "text": [
            "7635 1909\n"
          ],
          "name": "stdout"
        }
      ]
    },
    {
      "cell_type": "code",
      "metadata": {
        "colab": {
          "base_uri": "https://localhost:8080/"
        },
        "id": "DdMUbmfrFSYZ",
        "outputId": "a1b2589a-bc30-470b-c0d2-9dbe3a07722b"
      },
      "source": [
        "# 9. input image의 shape이 왜 제대로 안 나오나요? (예: 7635, 64, 64, 3)\n",
        "print('X_train의 shape:', X_train.shape)\n",
        "print('Y_train의 shape:', Y_train.shape)\n",
        "print('X_test의 shape:', X_test.shape)\n",
        "print('Y_test의 shape:', Y_test.shape)"
      ],
      "execution_count": null,
      "outputs": [
        {
          "output_type": "stream",
          "text": [
            "X_train의 shape: (7635,)\n",
            "Y_train의 shape: (7635, 6)\n",
            "X_test의 shape: (1909,)\n",
            "Y_test의 shape: (1909, 6)\n"
          ],
          "name": "stdout"
        }
      ]
    },
    {
      "cell_type": "code",
      "metadata": {
        "colab": {
          "base_uri": "https://localhost:8080/",
          "height": 262
        },
        "id": "Ts8MZzT-JdWB",
        "outputId": "f81466bf-725d-4972-a454-e1fc6b961441"
      },
      "source": [
        "# 10. 이미지 데이터를 255로 scaling 하려하는데 왜 에러가 나는 건가요? 뭔가 위에서부터 이미지 사이즈 설정이 잘못된 것 같습니다..\n",
        "X_train =  X_train.astype('float32') / 255.0"
      ],
      "execution_count": null,
      "outputs": [
        {
          "output_type": "error",
          "ename": "ValueError",
          "evalue": "ignored",
          "traceback": [
            "\u001b[0;31m---------------------------------------------------------------------------\u001b[0m",
            "\u001b[0;31mTypeError\u001b[0m                                 Traceback (most recent call last)",
            "\u001b[0;31mTypeError\u001b[0m: only size-1 arrays can be converted to Python scalars",
            "\nThe above exception was the direct cause of the following exception:\n",
            "\u001b[0;31mValueError\u001b[0m                                Traceback (most recent call last)",
            "\u001b[0;32m<ipython-input-45-c597da6fb9e3>\u001b[0m in \u001b[0;36m<module>\u001b[0;34m()\u001b[0m\n\u001b[0;32m----> 1\u001b[0;31m \u001b[0mX_train\u001b[0m \u001b[0;34m=\u001b[0m  \u001b[0mX_train\u001b[0m\u001b[0;34m.\u001b[0m\u001b[0mastype\u001b[0m\u001b[0;34m(\u001b[0m\u001b[0;34m'float32'\u001b[0m\u001b[0;34m)\u001b[0m \u001b[0;34m/\u001b[0m \u001b[0;36m255.0\u001b[0m\u001b[0;34m\u001b[0m\u001b[0;34m\u001b[0m\u001b[0m\n\u001b[0m",
            "\u001b[0;31mValueError\u001b[0m: setting an array element with a sequence."
          ]
        }
      ]
    },
    {
      "cell_type": "code",
      "metadata": {
        "id": "MgXuDck3IRko"
      },
      "source": [
        "#train_image_generator = ImageDataGenerator(rescale=1./255) "
      ],
      "execution_count": null,
      "outputs": []
    },
    {
      "cell_type": "code",
      "metadata": {
        "id": "AV-qWXJdISnr"
      },
      "source": [
        "#BATCH = 128\n",
        "#IMG_HEIGHT = 150\n",
        "#IMG_WIDTH = 150"
      ],
      "execution_count": null,
      "outputs": []
    },
    {
      "cell_type": "code",
      "metadata": {
        "id": "po26ReISIWKn"
      },
      "source": [
        "#train_data_gen = train_image_generator.flow_from_directory(batch_size=BATCH,\n",
        "#                                                           directory=X_train,\n",
        "#                                                           shuffle=True,\n",
        "#                                                           target_size=(IMG_HEIGHT, IMG_WIDTH),\n",
        "#                                                           class_mode='categorical')  "
      ],
      "execution_count": null,
      "outputs": []
    },
    {
      "cell_type": "code",
      "metadata": {
        "id": "VVkOZCGV6kxP"
      },
      "source": [
        "#X_test = X_test.reshape(-1,32*32*3)/255\n",
        "#y_test = keras.utils.to_categorical(y_test, 10)"
      ],
      "execution_count": null,
      "outputs": []
    }
  ]
}